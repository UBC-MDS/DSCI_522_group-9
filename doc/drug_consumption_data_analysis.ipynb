{
 "cells": [
  {
   "cell_type": "markdown",
   "metadata": {},
   "source": [
    "# Exploratory data analysis of the Drug Consumption data set"
   ]
  },
  {
   "cell_type": "markdown",
   "metadata": {},
   "source": [
    "## Introduction\n",
    "\n",
    "The database was collected by Elaine Fehrman between March 2011 and March 2012.\n",
    "An online survey tool from Survey Gizmo was employed to gather data with maximum anonymity, this being particularly relevant to canvassing respondents’ views, given the sensitive nature of drug use. All participants were required to declare themselves at least 18 years of age prior to informed consent being given.\n",
    "\n",
    "Participants were questioned concerning their use of 18 legal and illegal drugs (alcohol, amphetamines, amyl nitrite, benzodiazepine, cannabis, chocolate, cocaine, caffeine, crack, ecstasy, heroin, ketamine, legal highs, LSD, methadone, mushrooms, nicotine, and volatile substance abuse (VSA)) and one fictitious drug (Semeron) which was introduced to identify over-claimers. It was recognised at the outset that drug use research regularly (and spuriously) dichotomises individuals as users or non-users, without due regard to their frequency or duration/desistance of drug use (Ragan & Beaver, 2010). In this study, finer distinctions concerning the measurement of drug use have been deployed, due to the potential for the existence of qualitative differences amongst individuals with varying usage levels. In relation to each drug, respondents were asked to indicate on if they never used the drug, used it over a decade ago, or in the last decade, year, month, week, or day. \n",
    "\n",
    "The pupose of this document is to provide information for the features included in this dataset and state the inital findings via exploratory data analysis and form conclusions. "
   ]
  },
  {
   "cell_type": "markdown",
   "metadata": {},
   "source": [
    "## Data\n",
    "The database contains records for 1885 respondents. For each respondent 12 attributes are known: personality measurements which include \n",
    "- NEO-FFI-R (neuroticism, extraversion, openness to experience, agreeableness, and conscientiousness)\n",
    "- BIS-11 (impulsivity) (ordinal)\n",
    "- ImpSS (sensation seeking) (ordinal)\n",
    "- Level of education\n",
    "- Age\n",
    "- Gender\n",
    "- Country of residence \n",
    "- Ethnicity. \n",
    "\n",
    "In addition, participants were questioned concerning their use of 18 legal and illegal drugs (We are including 8 of them in our analysis for simplification):\n",
    "- Alcohol\n",
    "- Cannabis\n",
    "- Chocolate\n",
    "- Caffeine\n",
    "- Cocaine\n",
    "- Mushrooms\n",
    "- Nicotine\n",
    "- Volatile substance abuse \n",
    "\n",
    "For each drug they selected either never used the drug, used it over a decade ago, or in the last decade, year, month, week, or day. The database contains 18 classification problems. Each of the independent label variables contains seven classes: **Never Used (CL0)**, **Used over a Decade Ago (CL1)**, **Used in Last Decade (CL2)**, **Used in Last Year (CL3)**, **Used in Last Month (CL4)**, **Used in Last Week (CL5)**, and **Used in Last Day (CL6)**.\n",
    "\n",
    "The NEO-FFI-R attributes can be defined as follows:\n",
    "- Neuroticism is defined by how sensitive, emotional and prone to worry an individual may be. \n",
    "- Extraversion is a measure of how energetic, sociable and friendly a person is.\n",
    "- Openness indicates how open-minded a person is.\n",
    "- Agreeableness is a personality trait that describes a person's ability to put others needs before their own. \n",
    "- Contentiousness indicates how likely is a person to cause disagreement or argument.\n",
    "\n",
    "For the above attributes:\n",
    "- Scores range from 12-60. \n",
    "- Low Scores are between 12 and 26\n",
    "- Moderate Scores are between 27 and 45\n",
    "- High Scores are between 46 and 60.\n"
   ]
  },
  {
   "cell_type": "markdown",
   "metadata": {},
   "source": [
    "## Analysis"
   ]
  },
  {
   "cell_type": "code",
   "execution_count": 18,
   "metadata": {},
   "outputs": [
    {
     "data": {
      "text/plain": [
       "RendererRegistry.enable('html')"
      ]
     },
     "execution_count": 18,
     "metadata": {},
     "output_type": "execute_result"
    }
   ],
   "source": [
    "import altair as alt\n",
    "import pandas as pd\n",
    "from sklearn.model_selection import train_test_split\n",
    "alt.renderers.enable('mimetype')\n",
    "alt.data_transformers.enable('data_server')\n",
    "alt.renderers.enable('html')\n",
    "# alt.renderers.enable('svg')"
   ]
  },
  {
   "cell_type": "code",
   "execution_count": 19,
   "metadata": {},
   "outputs": [],
   "source": [
    "dataset = pd.read_csv(\"../data/preprocessed/train.csv\")\n",
    "train_df, test_df = train_test_split(dataset, train_size=0.8, shuffle=False, random_state=522)"
   ]
  },
  {
   "cell_type": "code",
   "execution_count": 20,
   "metadata": {},
   "outputs": [],
   "source": [
    "feature_columns = [ 'Age', 'Gender', 'Education', 'Country', 'Ethnicity', 'Neuroticism',\n",
    "                    'Extraversion', 'Openness', 'Agreeableness', 'Conscientiousness',\n",
    "                    'Impulsiveness', 'SensationSeeking']\n",
    "\n",
    "target_columns = [  'Chocolate', 'Caffeine',  'Nicotine', 'Alcohol', \n",
    "                    'Cannabis', 'Mushrooms','Cocaine', 'VSA']\n",
    "\n",
    "class_df = train_df.melt(\n",
    "    id_vars=feature_columns,\n",
    "    value_vars = target_columns,\n",
    "    var_name = \"Drug\",\n",
    "    value_name = 'Class'\n",
    ")\n",
    "\n",
    "class_df['Class'] = class_df['Class'].str.replace(\"CL0\", \"0\")\n",
    "class_df['Class'] = class_df['Class'].str.replace(\"CL1\", \"1\")\n",
    "class_df['Class'] = class_df['Class'].str.replace(\"CL2\", \"2\")\n",
    "class_df['Class'] = class_df['Class'].str.replace(\"CL3\", \"3\")\n",
    "class_df['Class'] = class_df['Class'].str.replace(\"CL4\", \"4\")\n",
    "class_df['Class'] = class_df['Class'].str.replace(\"CL5\", \"5\")\n",
    "class_df['Class'] = class_df['Class'].str.replace(\"CL6\", \"6\")\n",
    "\n",
    "class_df[\"Class\"].astype(int)\n",
    "\n",
    "frequency_order = [\"Never Used\",\n",
    "                   \"Used over a Decade Ago\",\n",
    "                   \"Used in Last Decade\",\n",
    "                   \"Used in Last Year\",\n",
    "                   \"Used in Last Month\",\n",
    "                   \"Used in Last Week\",\n",
    "                   \"Used in Last Day\"]\n",
    "axis_labels = \"\"\n",
    "for i in range(len(frequency_order)):\n",
    "    axis_labels += f\"datum.label == {i} ? '{frequency_order[i]}' : \"\n",
    "axis_labels += \"'Unknown'\""
   ]
  },
  {
   "cell_type": "code",
   "execution_count": 21,
   "metadata": {},
   "outputs": [
    {
     "data": {
      "text/html": [
       "\n",
       "<div id=\"altair-viz-925957386c9c45eba0f03b9088824873\"></div>\n",
       "<script type=\"text/javascript\">\n",
       "  var VEGA_DEBUG = (typeof VEGA_DEBUG == \"undefined\") ? {} : VEGA_DEBUG;\n",
       "  (function(spec, embedOpt){\n",
       "    let outputDiv = document.currentScript.previousElementSibling;\n",
       "    if (outputDiv.id !== \"altair-viz-925957386c9c45eba0f03b9088824873\") {\n",
       "      outputDiv = document.getElementById(\"altair-viz-925957386c9c45eba0f03b9088824873\");\n",
       "    }\n",
       "    const paths = {\n",
       "      \"vega\": \"https://cdn.jsdelivr.net/npm//vega@5?noext\",\n",
       "      \"vega-lib\": \"https://cdn.jsdelivr.net/npm//vega-lib?noext\",\n",
       "      \"vega-lite\": \"https://cdn.jsdelivr.net/npm//vega-lite@4.17.0?noext\",\n",
       "      \"vega-embed\": \"https://cdn.jsdelivr.net/npm//vega-embed@6?noext\",\n",
       "    };\n",
       "\n",
       "    function maybeLoadScript(lib, version) {\n",
       "      var key = `${lib.replace(\"-\", \"\")}_version`;\n",
       "      return (VEGA_DEBUG[key] == version) ?\n",
       "        Promise.resolve(paths[lib]) :\n",
       "        new Promise(function(resolve, reject) {\n",
       "          var s = document.createElement('script');\n",
       "          document.getElementsByTagName(\"head\")[0].appendChild(s);\n",
       "          s.async = true;\n",
       "          s.onload = () => {\n",
       "            VEGA_DEBUG[key] = version;\n",
       "            return resolve(paths[lib]);\n",
       "          };\n",
       "          s.onerror = () => reject(`Error loading script: ${paths[lib]}`);\n",
       "          s.src = paths[lib];\n",
       "        });\n",
       "    }\n",
       "\n",
       "    function showError(err) {\n",
       "      outputDiv.innerHTML = `<div class=\"error\" style=\"color:red;\">${err}</div>`;\n",
       "      throw err;\n",
       "    }\n",
       "\n",
       "    function displayChart(vegaEmbed) {\n",
       "      vegaEmbed(outputDiv, spec, embedOpt)\n",
       "        .catch(err => showError(`Javascript Error: ${err.message}<br>This usually means there's a typo in your chart specification. See the javascript console for the full traceback.`));\n",
       "    }\n",
       "\n",
       "    if(typeof define === \"function\" && define.amd) {\n",
       "      requirejs.config({paths});\n",
       "      require([\"vega-embed\"], displayChart, err => showError(`Error loading script: ${err.message}`));\n",
       "    } else {\n",
       "      maybeLoadScript(\"vega\", \"5\")\n",
       "        .then(() => maybeLoadScript(\"vega-lite\", \"4.17.0\"))\n",
       "        .then(() => maybeLoadScript(\"vega-embed\", \"6\"))\n",
       "        .catch(showError)\n",
       "        .then(() => displayChart(vegaEmbed));\n",
       "    }\n",
       "  })({\"config\": {\"view\": {\"continuousWidth\": 400, \"continuousHeight\": 300}}, \"layer\": [{\"mark\": {\"type\": \"point\", \"filled\": true}, \"encoding\": {\"color\": {\"field\": \"Drug\", \"type\": \"nominal\"}, \"opacity\": {\"condition\": {\"value\": 0.7, \"selection\": \"selector003\"}, \"value\": 0.1}, \"tooltip\": {\"field\": \"Drug\", \"type\": \"nominal\"}, \"x\": {\"axis\": {\"labelAngle\": 0, \"labelExpr\": \"datum.label == 0 ? 'Never Used' : datum.label == 1 ? 'Used over a Decade Ago' : datum.label == 2 ? 'Used in Last Decade' : datum.label == 3 ? 'Used in Last Year' : datum.label == 4 ? 'Used in Last Month' : datum.label == 5 ? 'Used in Last Week' : datum.label == 6 ? 'Used in Last Day' : 'Unknown'\"}, \"field\": \"Class\", \"title\": \"Frequency of Drug consumption\", \"type\": \"ordinal\"}, \"y\": {\"aggregate\": \"count\", \"title\": \"Number of people\", \"type\": \"quantitative\"}}, \"height\": 500, \"selection\": {\"selector003\": {\"type\": \"multi\", \"fields\": [\"Drug\"], \"bind\": \"legend\"}}, \"title\": {\"text\": \"Frequency of drug consumption for different drugs\", \"subtitle\": \"Figure 1. Shows the spread of frequency of consumption of various drugs by a set of people\"}, \"width\": 800}, {\"mark\": \"line\", \"encoding\": {\"color\": {\"field\": \"Drug\", \"type\": \"nominal\"}, \"opacity\": {\"condition\": {\"value\": 0.7, \"selection\": \"selector003\"}, \"value\": 0.1}, \"tooltip\": {\"field\": \"Drug\", \"type\": \"nominal\"}, \"x\": {\"axis\": {\"labelAngle\": 0, \"labelExpr\": \"datum.label == 0 ? 'Never Used' : datum.label == 1 ? 'Used over a Decade Ago' : datum.label == 2 ? 'Used in Last Decade' : datum.label == 3 ? 'Used in Last Year' : datum.label == 4 ? 'Used in Last Month' : datum.label == 5 ? 'Used in Last Week' : datum.label == 6 ? 'Used in Last Day' : 'Unknown'\"}, \"field\": \"Class\", \"title\": \"Frequency of Drug consumption\", \"type\": \"ordinal\"}, \"y\": {\"aggregate\": \"count\", \"title\": \"Number of people\", \"type\": \"quantitative\"}}, \"height\": 500, \"title\": {\"text\": \"Frequency of drug consumption for different drugs\", \"subtitle\": \"Figure 1. Shows the spread of frequency of consumption of various drugs by a set of people\"}, \"width\": 800}], \"data\": {\"url\": \"http://localhost:36285/a4e7d51e230d692022f76becc5c171be.json\"}, \"$schema\": \"https://vega.github.io/schema/vega-lite/v4.17.0.json\"}, {\"mode\": \"vega-lite\"});\n",
       "</script>"
      ],
      "text/plain": [
       "alt.LayerChart(...)"
      ]
     },
     "execution_count": 21,
     "metadata": {},
     "output_type": "execute_result"
    }
   ],
   "source": [
    "select_drug = alt.selection_multi(fields=['Drug'], bind='legend')\n",
    "\n",
    "point_chart = alt.Chart(class_df).mark_point(filled=True).encode(\n",
    "    x = alt.X(\"Class:O\", \n",
    "              axis=alt.Axis(labelExpr=axis_labels, labelAngle=0), \n",
    "              title=\"Frequency of Drug consumption\"),\n",
    "    y = alt.Y(\"count()\", title='Number of people'),\n",
    "    tooltip='Drug',\n",
    "    color = \"Drug\",\n",
    "    opacity=alt.condition(select_drug, alt.value(0.7), alt.value(0.1))\n",
    ").properties(\n",
    "    title={\n",
    "        \"text\": \"Frequency of drug consumption for different drugs\",\n",
    "        \"subtitle\": \"Figure 1. Shows the spread of frequency of consumption of various drugs by a set of people\"\n",
    "    },\n",
    "    width = 800,\n",
    "    height = 500\n",
    ")\n",
    "\n",
    "(point_chart + point_chart.mark_line()).add_selection(select_drug)\n"
   ]
  },
  {
   "cell_type": "markdown",
   "metadata": {},
   "source": [
    "The above plot shows the frequency of usage of different kinds of drugs. On the X-axis, we plot the frequency of drug consumption in an increasing order (`Never Used` to `Used in the last day`). It is interesting to note the trends for different drugs as we can see that:\n",
    "- For legal drugs like `Caffeine`, `Chocolate`, and `Alcohol`, More people have used it recently than many years ago.\n",
    "- For drugs like `Mushrooms`, which are legal in a few countries included in the dataset and have medical uses, we see a higher number of people who have used it sometime in the last year/decade.\n",
    "- For drugs like `Cannabis` and `Nicotine`, which are often consumed together and are also legal in a few countries included in the dataset, have a very similar trend line.\n",
    "- For highly illegal substances, that have no medical use, like `Cocaine` and `VSA`, we see that a large proportion of the participants have either never consumed it or consumed it very long ago."
   ]
  },
  {
   "cell_type": "code",
   "execution_count": 22,
   "metadata": {},
   "outputs": [],
   "source": [
    "personality_df = train_df.melt(\n",
    "    id_vars= ['Age', 'Gender', 'Education', 'Country', 'Ethnicity'],\n",
    "    value_vars = ['Neuroticism', 'Extraversion', 'Openness', 'Agreeableness', 'Conscientiousness'],\n",
    "    var_name = \"Measure\",\n",
    "    value_name = 'Value'\n",
    ")"
   ]
  },
  {
   "cell_type": "code",
   "execution_count": 23,
   "metadata": {},
   "outputs": [
    {
     "data": {
      "text/html": [
       "\n",
       "<div id=\"altair-viz-c1efcf10c9af42b2aafcc646aabf77d8\"></div>\n",
       "<script type=\"text/javascript\">\n",
       "  var VEGA_DEBUG = (typeof VEGA_DEBUG == \"undefined\") ? {} : VEGA_DEBUG;\n",
       "  (function(spec, embedOpt){\n",
       "    let outputDiv = document.currentScript.previousElementSibling;\n",
       "    if (outputDiv.id !== \"altair-viz-c1efcf10c9af42b2aafcc646aabf77d8\") {\n",
       "      outputDiv = document.getElementById(\"altair-viz-c1efcf10c9af42b2aafcc646aabf77d8\");\n",
       "    }\n",
       "    const paths = {\n",
       "      \"vega\": \"https://cdn.jsdelivr.net/npm//vega@5?noext\",\n",
       "      \"vega-lib\": \"https://cdn.jsdelivr.net/npm//vega-lib?noext\",\n",
       "      \"vega-lite\": \"https://cdn.jsdelivr.net/npm//vega-lite@4.17.0?noext\",\n",
       "      \"vega-embed\": \"https://cdn.jsdelivr.net/npm//vega-embed@6?noext\",\n",
       "    };\n",
       "\n",
       "    function maybeLoadScript(lib, version) {\n",
       "      var key = `${lib.replace(\"-\", \"\")}_version`;\n",
       "      return (VEGA_DEBUG[key] == version) ?\n",
       "        Promise.resolve(paths[lib]) :\n",
       "        new Promise(function(resolve, reject) {\n",
       "          var s = document.createElement('script');\n",
       "          document.getElementsByTagName(\"head\")[0].appendChild(s);\n",
       "          s.async = true;\n",
       "          s.onload = () => {\n",
       "            VEGA_DEBUG[key] = version;\n",
       "            return resolve(paths[lib]);\n",
       "          };\n",
       "          s.onerror = () => reject(`Error loading script: ${paths[lib]}`);\n",
       "          s.src = paths[lib];\n",
       "        });\n",
       "    }\n",
       "\n",
       "    function showError(err) {\n",
       "      outputDiv.innerHTML = `<div class=\"error\" style=\"color:red;\">${err}</div>`;\n",
       "      throw err;\n",
       "    }\n",
       "\n",
       "    function displayChart(vegaEmbed) {\n",
       "      vegaEmbed(outputDiv, spec, embedOpt)\n",
       "        .catch(err => showError(`Javascript Error: ${err.message}<br>This usually means there's a typo in your chart specification. See the javascript console for the full traceback.`));\n",
       "    }\n",
       "\n",
       "    if(typeof define === \"function\" && define.amd) {\n",
       "      requirejs.config({paths});\n",
       "      require([\"vega-embed\"], displayChart, err => showError(`Error loading script: ${err.message}`));\n",
       "    } else {\n",
       "      maybeLoadScript(\"vega\", \"5\")\n",
       "        .then(() => maybeLoadScript(\"vega-lite\", \"4.17.0\"))\n",
       "        .then(() => maybeLoadScript(\"vega-embed\", \"6\"))\n",
       "        .catch(showError)\n",
       "        .then(() => displayChart(vegaEmbed));\n",
       "    }\n",
       "  })({\"config\": {\"view\": {\"continuousWidth\": 400, \"continuousHeight\": 300}}, \"data\": {\"url\": \"http://localhost:36285/5e5cb251f6d54db53edd540492311b67.json\"}, \"mark\": \"boxplot\", \"encoding\": {\"color\": {\"field\": \"Measure\", \"legend\": null, \"type\": \"nominal\"}, \"x\": {\"field\": \"Value\", \"scale\": {\"zero\": false}, \"title\": \"Score\", \"type\": \"quantitative\"}, \"y\": {\"field\": \"Measure\", \"title\": \"Personality Measure\", \"type\": \"nominal\"}}, \"height\": 150, \"title\": {\"text\": \"NEO-FFI-R test scores\", \"subtitle\": \"Figure 2. Shows the spread of NEO-FFI-R test scores obtained by the participants\"}, \"width\": 400, \"$schema\": \"https://vega.github.io/schema/vega-lite/v4.17.0.json\"}, {\"mode\": \"vega-lite\"});\n",
       "</script>"
      ],
      "text/plain": [
       "alt.Chart(...)"
      ]
     },
     "execution_count": 23,
     "metadata": {},
     "output_type": "execute_result"
    }
   ],
   "source": [
    "alt.Chart(personality_df).mark_boxplot().encode(\n",
    "    x = alt.X('Value', scale=alt.Scale(zero=False), title='Score'),\n",
    "    y = alt.Y(\"Measure\", title=\"Personality Measure\"),\n",
    "    color = alt.Color(\"Measure\",legend=None)\n",
    ").properties(\n",
    "    title={\n",
    "        \"text\": \"NEO-FFI-R test scores\",\n",
    "        \"subtitle\": \"Figure 2. Shows the spread of NEO-FFI-R test scores obtained by the participants\"\n",
    "    },\n",
    "    width=400,\n",
    "    height=150\n",
    ")"
   ]
  },
  {
   "cell_type": "markdown",
   "metadata": {},
   "source": [
    "The above plot shows the distribution of the NEO-FFI-R scores for all the participants involved in this experiment. We can notice that a few points are not included in the whiskers of the boxplot for some of the traits which can be explained by the small sample size. A lower score does not imply incorrect information or an outlier because it is not unusual for a person to have a very low/high score as the NEO-FFI-R test is very subjective to the person. \n",
    "\n",
    "We can see the means of all the traits lie in the `Moderate` range except for the `Openness` trait. One reason for this could be that if a person is participating in an experiment which includes the collection of highly personal data, they are probably very open-minded people and have a high level of openness to trying new things! "
   ]
  },
  {
   "cell_type": "code",
   "execution_count": 24,
   "metadata": {},
   "outputs": [
    {
     "name": "stdout",
     "output_type": "stream",
     "text": [
      "Proportion of categories across all Categorical variables:\n",
      "| Age   |   count |   Proportion |\n",
      "|:------|--------:|-------------:|\n",
      "| 18-24 |     389 |        32.42 |\n",
      "| 25-34 |     321 |        26.75 |\n",
      "| 35-44 |     227 |        18.92 |\n",
      "| 45-54 |     187 |        15.58 |\n",
      "| 55-64 |      63 |         5.25 |\n",
      "| 65+   |      13 |         1.08 |\n",
      "\n",
      "\n",
      "\n",
      "\n",
      "Proportion of categories across all Categorical variables:\n",
      "| Gender   |   count |   Proportion |\n",
      "|:---------|--------:|-------------:|\n",
      "| Female   |     601 |        50.08 |\n",
      "| Male     |     599 |        49.92 |\n",
      "\n",
      "\n",
      "\n",
      "\n",
      "Proportion of categories across all Categorical variables:\n",
      "| Education                                            |   count |   Proportion |\n",
      "|:-----------------------------------------------------|--------:|-------------:|\n",
      "| Doctorate degree                                     |      58 |         4.83 |\n",
      "| Left school at 16 years                              |      71 |         5.92 |\n",
      "| Left school at 17 years                              |      18 |         1.5  |\n",
      "| Left school at 18 years                              |      59 |         4.92 |\n",
      "| Left school before 16 years                          |      14 |         1.17 |\n",
      "| Masters degree                                       |     181 |        15.08 |\n",
      "| Professional certificate/ diploma                    |     184 |        15.33 |\n",
      "| Some college or university, no certificate or degree |     315 |        26.25 |\n",
      "| University degree                                    |     300 |        25    |\n",
      "\n",
      "\n",
      "\n",
      "\n",
      "Proportion of categories across all Categorical variables:\n",
      "| Country             |   count |   Proportion |\n",
      "|:--------------------|--------:|-------------:|\n",
      "| Australia           |      33 |         2.75 |\n",
      "| Canada              |      52 |         4.33 |\n",
      "| New Zealand         |       2 |         0.17 |\n",
      "| Other               |      70 |         5.83 |\n",
      "| Republic of Ireland |      14 |         1.17 |\n",
      "| UK                  |     681 |        56.75 |\n",
      "| USA                 |     348 |        29    |\n",
      "\n",
      "\n",
      "\n",
      "\n",
      "Proportion of categories across all Categorical variables:\n",
      "| Ethnicity         |   count |   Proportion |\n",
      "|:------------------|--------:|-------------:|\n",
      "| Asian             |      17 |         1.42 |\n",
      "| Black             |      15 |         1.25 |\n",
      "| Mixed-Black/Asian |       1 |         0.08 |\n",
      "| Mixed-White/Asian |      10 |         0.83 |\n",
      "| Mixed-White/Black |      13 |         1.08 |\n",
      "| Other             |      40 |         3.33 |\n",
      "| White             |    1104 |        92    |\n",
      "\n",
      "\n",
      "\n",
      "\n"
     ]
    }
   ],
   "source": [
    "categorical_features = ['Age', 'Gender', 'Education', 'Country', 'Ethnicity']\n",
    "\n",
    "for feat in categorical_features:\n",
    "    df = train_df.groupby(feat)[feat].agg(['count'])\n",
    "    df['Proportion'] = round(df['count'] / df['count'].sum() * 100, 2)\n",
    "    print('Proportion of categories across all Categorical variables:')\n",
    "    print(df.to_markdown())\n",
    "    print('\\n\\n\\n')"
   ]
  },
  {
   "cell_type": "markdown",
   "metadata": {},
   "source": [
    "Impulsiveness and Sensation Seeking are 2 numerical parameters that have been binned together to form categories. Hence we can create a barplot to represent the distribution of data points across different range of values (Histogram for the original data)"
   ]
  },
  {
   "cell_type": "code",
   "execution_count": 25,
   "metadata": {},
   "outputs": [
    {
     "data": {
      "text/html": [
       "\n",
       "<div id=\"altair-viz-3ef97b1c09874b0eb667ae71d2f8572e\"></div>\n",
       "<script type=\"text/javascript\">\n",
       "  var VEGA_DEBUG = (typeof VEGA_DEBUG == \"undefined\") ? {} : VEGA_DEBUG;\n",
       "  (function(spec, embedOpt){\n",
       "    let outputDiv = document.currentScript.previousElementSibling;\n",
       "    if (outputDiv.id !== \"altair-viz-3ef97b1c09874b0eb667ae71d2f8572e\") {\n",
       "      outputDiv = document.getElementById(\"altair-viz-3ef97b1c09874b0eb667ae71d2f8572e\");\n",
       "    }\n",
       "    const paths = {\n",
       "      \"vega\": \"https://cdn.jsdelivr.net/npm//vega@5?noext\",\n",
       "      \"vega-lib\": \"https://cdn.jsdelivr.net/npm//vega-lib?noext\",\n",
       "      \"vega-lite\": \"https://cdn.jsdelivr.net/npm//vega-lite@4.17.0?noext\",\n",
       "      \"vega-embed\": \"https://cdn.jsdelivr.net/npm//vega-embed@6?noext\",\n",
       "    };\n",
       "\n",
       "    function maybeLoadScript(lib, version) {\n",
       "      var key = `${lib.replace(\"-\", \"\")}_version`;\n",
       "      return (VEGA_DEBUG[key] == version) ?\n",
       "        Promise.resolve(paths[lib]) :\n",
       "        new Promise(function(resolve, reject) {\n",
       "          var s = document.createElement('script');\n",
       "          document.getElementsByTagName(\"head\")[0].appendChild(s);\n",
       "          s.async = true;\n",
       "          s.onload = () => {\n",
       "            VEGA_DEBUG[key] = version;\n",
       "            return resolve(paths[lib]);\n",
       "          };\n",
       "          s.onerror = () => reject(`Error loading script: ${paths[lib]}`);\n",
       "          s.src = paths[lib];\n",
       "        });\n",
       "    }\n",
       "\n",
       "    function showError(err) {\n",
       "      outputDiv.innerHTML = `<div class=\"error\" style=\"color:red;\">${err}</div>`;\n",
       "      throw err;\n",
       "    }\n",
       "\n",
       "    function displayChart(vegaEmbed) {\n",
       "      vegaEmbed(outputDiv, spec, embedOpt)\n",
       "        .catch(err => showError(`Javascript Error: ${err.message}<br>This usually means there's a typo in your chart specification. See the javascript console for the full traceback.`));\n",
       "    }\n",
       "\n",
       "    if(typeof define === \"function\" && define.amd) {\n",
       "      requirejs.config({paths});\n",
       "      require([\"vega-embed\"], displayChart, err => showError(`Error loading script: ${err.message}`));\n",
       "    } else {\n",
       "      maybeLoadScript(\"vega\", \"5\")\n",
       "        .then(() => maybeLoadScript(\"vega-lite\", \"4.17.0\"))\n",
       "        .then(() => maybeLoadScript(\"vega-embed\", \"6\"))\n",
       "        .catch(showError)\n",
       "        .then(() => displayChart(vegaEmbed));\n",
       "    }\n",
       "  })({\"config\": {\"view\": {\"continuousWidth\": 400, \"continuousHeight\": 300}}, \"vconcat\": [{\"mark\": \"bar\", \"encoding\": {\"x\": {\"field\": \"Impulsiveness\", \"sort\": [\"C1\", \"C2\", \"C3\", \"C4\", \"C5\", \"C6\", \"C7\", \"C8\", \"C9\", \"C10\"], \"title\": \"\", \"type\": \"nominal\"}, \"y\": {\"aggregate\": \"count\", \"type\": \"quantitative\"}}, \"title\": {\"text\": \"Impulsiveness score\", \"subtitle\": \"Figure 3.1 Shows the spread of BIS-11 test scores obtained by the participants\"}, \"width\": 300}, {\"mark\": \"bar\", \"encoding\": {\"x\": {\"field\": \"SensationSeeking\", \"sort\": [\"C1\", \"C2\", \"C3\", \"C4\", \"C5\", \"C6\", \"C7\", \"C8\", \"C9\", \"C10\", \"C11\"], \"title\": \"Score\", \"type\": \"nominal\"}, \"y\": {\"aggregate\": \"count\", \"type\": \"quantitative\"}}, \"title\": {\"text\": \"Sensation Seeking score\", \"subtitle\": \"Figure 3.2 Shows the spread of ImpSS test scores obtained by the participants\"}, \"width\": 300}], \"data\": {\"url\": \"http://localhost:36285/ed6e725741efe5967654a6a2ffaba295.json\"}, \"title\": {\"text\": \"Distribution of frequency of consumption of ordinal cateogries scores\"}, \"$schema\": \"https://vega.github.io/schema/vega-lite/v4.17.0.json\"}, {\"mode\": \"vega-lite\"});\n",
       "</script>"
      ],
      "text/plain": [
       "alt.VConcatChart(...)"
      ]
     },
     "execution_count": 25,
     "metadata": {},
     "output_type": "execute_result"
    }
   ],
   "source": [
    "imp_chart = alt.Chart(train_df).mark_bar().encode(\n",
    "    x=alt.X(\"Impulsiveness\", sort=[f\"C{i}\" for i in range(1,11)], title=\"\"),\n",
    "    y=alt.Y(\"count()\")\n",
    ").properties(\n",
    "    width=300,\n",
    "    title={\n",
    "        'text': 'Impulsiveness score',\n",
    "        'subtitle': \"Figure 3.1 Shows the spread of BIS-11 test scores obtained by the participants\"\n",
    "    }\n",
    ")\n",
    "ss_chart = alt.Chart(train_df).mark_bar().encode(\n",
    "    x=alt.X(\"SensationSeeking\", sort=[f\"C{i}\" for i in range(1,12)], title=\"Score\"),\n",
    "    y=\"count()\"\n",
    ").properties(\n",
    "    width=300,\n",
    "    title={\n",
    "        'text': 'Sensation Seeking score',\n",
    "        'subtitle': \"Figure 3.2 Shows the spread of ImpSS test scores obtained by the participants\"\n",
    "    }\n",
    ")\n",
    "(imp_chart & ss_chart).properties(\n",
    "    title={\n",
    "        \"text\": \"Distribution of frequency of consumption of ordinal cateogries scores\"\n",
    "    },\n",
    ")"
   ]
  },
  {
   "cell_type": "markdown",
   "metadata": {},
   "source": [
    "Since these 2 features are ordinal, we can see from the above histograms that most of the data points are clustered around the mid values as compared to the extreme values."
   ]
  },
  {
   "cell_type": "markdown",
   "metadata": {},
   "source": [
    "## References"
   ]
  },
  {
   "cell_type": "markdown",
   "metadata": {},
   "source": [
    "- [Sample Project (Breast Cancer Prediction)](https://github.com/ttimbers/breast_cancer_predictor/tree/master/src)\n",
    "- [Drug Consumption UCI repository](https://archive.ics.uci.edu/ml/datasets/Drug%2Bconsumption%2B%28quantified%29)\n",
    "- [Dataset](https://archive.ics.uci.edu/ml/machine-learning-databases/00373/)\n",
    "- [Visualization Notes from DSCI-531](https://pages.github.ubc.ca/mds-2022-23/DSCI_531_viz-1_students/lectures/8-figure-composition.html)"
   ]
  }
 ],
 "metadata": {
  "kernelspec": {
   "display_name": "Python 3.10.6 ('573')",
   "language": "python",
   "name": "python3"
  },
  "language_info": {
   "codemirror_mode": {
    "name": "ipython",
    "version": 3
   },
   "file_extension": ".py",
   "mimetype": "text/x-python",
   "name": "python",
   "nbconvert_exporter": "python",
   "pygments_lexer": "ipython3",
   "version": "3.10.6"
  },
  "orig_nbformat": 4,
  "vscode": {
   "interpreter": {
    "hash": "e11d0c4061f56f3cefa52bddf5813e6300aa93e5d5bc99c07fb2c654e74c78a8"
   }
  }
 },
 "nbformat": 4,
 "nbformat_minor": 2
}
