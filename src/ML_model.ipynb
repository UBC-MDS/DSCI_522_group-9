{
 "cells": [
  {
   "cell_type": "markdown",
   "metadata": {},
   "source": [
    "# Random Forest Classifier"
   ]
  },
  {
   "cell_type": "code",
   "execution_count": 120,
   "metadata": {},
   "outputs": [],
   "source": [
    "import pandas as pd\n",
    "import numpy as np\n",
    "import os\n",
    "import json\n",
    "\n",
    "from sklearn.compose import make_column_transformer\n",
    "from sklearn.pipeline import make_pipeline\n",
    "from sklearn.model_selection import train_test_split\n",
    "from sklearn.preprocessing import StandardScaler, OrdinalEncoder, OneHotEncoder, PolynomialFeatures\n",
    "from sklearn.model_selection import RandomizedSearchCV, GridSearchCV\n",
    "from sklearn.model_selection import cross_val_score, cross_val_predict, cross_validate\n",
    "\n",
    "from sklearn.dummy import DummyClassifier, DummyRegressor\n",
    "from sklearn.svm import SVC\n",
    "from sklearn.linear_model import LogisticRegression, Ridge\n",
    "from sklearn.neighbors import KNeighborsClassifier\n",
    "from sklearn.tree import DecisionTreeClassifier\n",
    "from sklearn.feature_selection import SelectFromModel\n",
    "from sklearn.metrics import make_scorer\n",
    "from sklearn.ensemble import RandomForestClassifier\n",
    "from sklearn.metrics import confusion_matrix  # Recommended method in sklearn 1.0\n",
    "from sklearn.metrics import f1_score, precision_score, recall_score, accuracy_score"
   ]
  },
  {
   "cell_type": "code",
   "execution_count": 124,
   "metadata": {},
   "outputs": [],
   "source": [
    "data_path = \"../data/processed\"\n",
    "\n",
    "#Load data mappings\n",
    "mappings = json.load(open(\"data_mapping.json\", \"r\"))\n",
    "\n",
    "train_df = pd.read_csv(os.path.join(data_path, \"train.csv\"))\n",
    "test_df = pd.read_csv(os.path.join(data_path, \"test.csv\"))\n",
    "# df = pd.read_csv(os.path.join(data_path, \"drug_consumption.data\"), names=mappings['column_headers'])\n",
    "# df = df.drop(columns=mappings['drop'])\n",
    "# for drug in mappings['drugs']:\n",
    "#     df[drug] = df[drug].replace({\"CL0\": \"C0\",                           \n",
    "#                                 \"CL1\": \"C0\",\n",
    "#                                 \"CL2\": \"C0\",\n",
    "#                                 \"CL3\": \"C1\",\n",
    "#                                 \"CL4\": \"C1\",\n",
    "#                                 \"CL5\": \"C2\",\n",
    "#                                 \"CL6\": \"C2\"})\n",
    "\n",
    "# X_train, X_test, y_train, y_test = train_test_split(df.drop(columns = mappings['drugs']),\n",
    "#                                      df[mappings['drugs']],\n",
    "#                                      test_size=0.2)\n",
    "X_train = train_df.drop(columns=mappings['drugs'])\n",
    "y_train = train_df[mappings['drugs']]\n",
    "X_test = test_df.drop(columns=mappings['drugs'])\n",
    "y_test = test_df[mappings['drugs']]\n"
   ]
  },
  {
   "cell_type": "code",
   "execution_count": 125,
   "metadata": {},
   "outputs": [],
   "source": [
    "preprocessor =  make_column_transformer(\n",
    "        (make_pipeline(\n",
    "            PolynomialFeatures(degree=3),\n",
    "            StandardScaler()\n",
    "        ), mappings['numerical'] + mappings['ordinal']),\n",
    "        (OneHotEncoder(drop='if_binary', dtype=int, handle_unknown='ignore'), mappings['categorical'])\n",
    "    )"
   ]
  },
  {
   "cell_type": "code",
   "execution_count": 126,
   "metadata": {},
   "outputs": [],
   "source": [
    "#Scoring functions to use\n",
    "scorers = {\n",
    "            'f1_score': make_scorer(f1_score, average='weighted', zero_division=True),\n",
    "            # 'precision_score': make_scorer(precision_score, average='weighted',zero_division=True),\n",
    "            # 'recall_score': make_scorer(recall_score, average='weighted', zero_division=True),\n",
    "            # 'accuracy_score': make_scorer(accuracy_score)\n",
    "          }"
   ]
  },
  {
   "cell_type": "code",
   "execution_count": 127,
   "metadata": {},
   "outputs": [],
   "source": [
    "def mean_std_cross_val_scores(model, X_train, y_train, **kwargs):\n",
    "    \"\"\"\n",
    "    Returns mean and std of cross validation\n",
    "\n",
    "    Parameters\n",
    "    ----------\n",
    "    model :\n",
    "        scikit-learn model\n",
    "    X_train : numpy array or pandas DataFrame\n",
    "        X in the training data\n",
    "    y_train :\n",
    "        y in the training data\n",
    "\n",
    "    Returns\n",
    "    ----------\n",
    "        pandas Series with mean scores from cross_validation\n",
    "    \"\"\"\n",
    "\n",
    "    scores = cross_validate(model, X_train, y_train, **kwargs)\n",
    "    mean_scores = pd.DataFrame(scores).round(4).mean()\n",
    "    std_scores = pd.DataFrame(scores).round(4).std()\n",
    "    out_col = []\n",
    "\n",
    "    for i in range(len(mean_scores)):\n",
    "        out_col.append((f\"%0.3f (+/- %0.3f)\" % (mean_scores[i], std_scores[i])))\n",
    "\n",
    "    return pd.Series(data=out_col, index=mean_scores.index)"
   ]
  },
  {
   "cell_type": "code",
   "execution_count": 129,
   "metadata": {},
   "outputs": [],
   "source": [
    "results = {}\n",
    "dummy_cv_results = {}\n",
    "# Get the mean accuracy for each drug\n",
    "for drug in mappings['drugs']: \n",
    "    results[drug] = {}\n",
    "    dc = DummyClassifier(strategy=\"most_frequent\")\n",
    "    # dc.fit(X_train, y_train[drug])\n",
    "    dummy_cv_results[drug] = mean_std_cross_val_scores( dc, \n",
    "                                                        X_train,\n",
    "                                                        y_train[drug],\n",
    "                                                        return_train_score = True,\n",
    "                                                        n_jobs=-1,\n",
    "                                                        scoring=scorers) \n",
    "results = pd.DataFrame(dummy_cv_results)\n",
    "results = results.drop(index = [\"fit_time\", \"score_time\"]).T\n",
    "results = results.reset_index()\n",
    "results = results.rename(columns = {\"index\": \"target_drug\"})\n",
    "\n",
    "results = results.set_index(\"target_drug\").T"
   ]
  },
  {
   "cell_type": "code",
   "execution_count": 130,
   "metadata": {},
   "outputs": [
    {
     "data": {
      "text/html": [
       "<div>\n",
       "<style scoped>\n",
       "    .dataframe tbody tr th:only-of-type {\n",
       "        vertical-align: middle;\n",
       "    }\n",
       "\n",
       "    .dataframe tbody tr th {\n",
       "        vertical-align: top;\n",
       "    }\n",
       "\n",
       "    .dataframe thead th {\n",
       "        text-align: right;\n",
       "    }\n",
       "</style>\n",
       "<table border=\"1\" class=\"dataframe\">\n",
       "  <thead>\n",
       "    <tr style=\"text-align: right;\">\n",
       "      <th>target_drug</th>\n",
       "      <th>Alcohol</th>\n",
       "      <th>Cannabis</th>\n",
       "      <th>Chocolate</th>\n",
       "      <th>Caffeine</th>\n",
       "      <th>Cocaine</th>\n",
       "      <th>Mushrooms</th>\n",
       "      <th>Nicotine</th>\n",
       "    </tr>\n",
       "  </thead>\n",
       "  <tbody>\n",
       "    <tr>\n",
       "      <th>test_f1_score</th>\n",
       "      <td>0.542 (+/- 0.003)</td>\n",
       "      <td>0.305 (+/- 0.002)</td>\n",
       "      <td>0.701 (+/- 0.002)</td>\n",
       "      <td>0.835 (+/- 0.003)</td>\n",
       "      <td>0.681 (+/- 0.002)</td>\n",
       "      <td>0.675 (+/- 0.003)</td>\n",
       "      <td>0.263 (+/- 0.002)</td>\n",
       "    </tr>\n",
       "    <tr>\n",
       "      <th>train_f1_score</th>\n",
       "      <td>0.542 (+/- 0.001)</td>\n",
       "      <td>0.305 (+/- 0.001)</td>\n",
       "      <td>0.701 (+/- 0.000)</td>\n",
       "      <td>0.835 (+/- 0.001)</td>\n",
       "      <td>0.681 (+/- 0.001)</td>\n",
       "      <td>0.675 (+/- 0.001)</td>\n",
       "      <td>0.263 (+/- 0.001)</td>\n",
       "    </tr>\n",
       "  </tbody>\n",
       "</table>\n",
       "</div>"
      ],
      "text/plain": [
       "target_drug               Alcohol           Cannabis          Chocolate  \\\n",
       "test_f1_score   0.542 (+/- 0.003)  0.305 (+/- 0.002)  0.701 (+/- 0.002)   \n",
       "train_f1_score  0.542 (+/- 0.001)  0.305 (+/- 0.001)  0.701 (+/- 0.000)   \n",
       "\n",
       "target_drug              Caffeine            Cocaine          Mushrooms  \\\n",
       "test_f1_score   0.835 (+/- 0.003)  0.681 (+/- 0.002)  0.675 (+/- 0.003)   \n",
       "train_f1_score  0.835 (+/- 0.001)  0.681 (+/- 0.001)  0.675 (+/- 0.001)   \n",
       "\n",
       "target_drug              Nicotine  \n",
       "test_f1_score   0.263 (+/- 0.002)  \n",
       "train_f1_score  0.263 (+/- 0.001)  "
      ]
     },
     "execution_count": 130,
     "metadata": {},
     "output_type": "execute_result"
    }
   ],
   "source": [
    "results"
   ]
  },
  {
   "cell_type": "code",
   "execution_count": 132,
   "metadata": {},
   "outputs": [],
   "source": [
    "rf_pipe =  make_pipeline(\n",
    "    # preprocessor,\n",
    "    RandomForestClassifier(min_samples_leaf=2,\n",
    "                           n_jobs=-1,\n",
    "                           random_state=522)\n",
    ")\n",
    "\n",
    "param_dist = {\n",
    "    \"randomforestclassifier__max_depth\": [i for i in range(3, 35, 2)],\n",
    "    \"randomforestclassifier__max_features\": [i for i in range(6, 15, 2)],\n",
    "    \"randomforestclassifier__class_weight\": [\"balanced\", \"balanced_subsample\", None],\n",
    "    \"randomforestclassifier__n_estimators\": [i for i in range(50, 250, 10)]\n",
    "}\n",
    "\n",
    "# Save the best model and score for each drug\n",
    "rf_best_estimator = {}\n",
    "rf_best_score_by_drug = {}\n",
    "\n",
    "for drug in mappings['drugs']: \n",
    "    random_search = RandomizedSearchCV(rf_pipe, \n",
    "                                param_distributions=param_dist,\n",
    "                                n_jobs = -1,\n",
    "                                n_iter=30,\n",
    "                                cv = 3, \n",
    "                                return_train_score = True,\n",
    "                                scoring=scorers,\n",
    "                                refit='f1_score')\n",
    "    \n",
    "    random_search.fit(X_train, y_train[drug])\n",
    "    rf_best_estimator[drug] = random_search.best_estimator_\n",
    "    \n",
    "    rf_best_score_by_drug[drug] = mean_std_cross_val_scores(random_search,\n",
    "                              X_train,\n",
    "                              y_train[drug],\n",
    "                              cv=3,\n",
    "                              n_jobs=-1,\n",
    "                              return_train_score=True)\n",
    "    \n",
    "    \n",
    "rf_score_by_drug = pd.DataFrame(rf_best_score_by_drug)\n",
    "rf_score_by_drug = rf_score_by_drug.drop(index = [\"fit_time\", \"score_time\"]).T\n",
    "rf_score_by_drug = rf_score_by_drug.reset_index()\n",
    "rf_score_by_drug = rf_score_by_drug.rename(columns = {\"index\": \"target_drug\"})\n",
    "rf_score_by_drug = rf_score_by_drug.set_index(\"target_drug\").T\n",
    "rf_score_by_drug.index = ['rf_test_f1_score', 'rf_train_f1_score']\n",
    "\n",
    "    \n",
    "# results = pd.concat([results, rf_score_by_drug])"
   ]
  },
  {
   "cell_type": "code",
   "execution_count": 109,
   "metadata": {},
   "outputs": [],
   "source": [
    "import json\n",
    "from sklearn.model_selection import train_test_split\n",
    "mappings = json.load(open(\"data_mapping.json\", \"r\"))\n",
    "for key, values in mappings[\"categories\"].items():\n",
    "    #The float values are keys and are henced saved as string values in the JSON object\n",
    "    #Hence we are casting them back to float here\n",
    "    values = {float(k):v for k,v in values.items()}\n",
    "    df[key] = df.replace({key:values})[key]\n",
    "\n",
    "train_df, test_df = train_test_split(df, train_size=0.8, random_state=522)    "
   ]
  },
  {
   "cell_type": "code",
   "execution_count": 110,
   "metadata": {},
   "outputs": [],
   "source": [
    "train_df.to_csv(os.path.join(\"t.csv\"), index=False)"
   ]
  },
  {
   "cell_type": "code",
   "execution_count": 111,
   "metadata": {},
   "outputs": [],
   "source": [
    "preprocessor =  make_column_transformer(\n",
    "                        (StandardScaler(), mappings['numerical']),\n",
    "                        (OrdinalEncoder(categories = [\n",
    "                            list(mappings['categories']['Age'].values()),\n",
    "                            list(mappings['categories']['Education'].values()),\n",
    "                            list(mappings['categories']['Impulsiveness'].values()),\n",
    "                            list(mappings['categories']['SensationSeeking'].values()),\n",
    "                        ]), mappings['ordinal']),\n",
    "                        (OneHotEncoder(drop='if_binary', dtype=int, handle_unknown='ignore'), mappings['categorical']),\n",
    "                        (\"drop\", mappings['drop']))"
   ]
  },
  {
   "cell_type": "code",
   "execution_count": 112,
   "metadata": {},
   "outputs": [],
   "source": [
    "preprocessor.fit(train_df)\n",
    "X_test_enc = pd.DataFrame(preprocessor.transform(test_df), \n",
    "                          columns=preprocessor.get_feature_names_out())\n",
    "y_train = train_df[mappings['drugs']]\n",
    "y_test = test_df[mappings['drugs']]"
   ]
  },
  {
   "cell_type": "code",
   "execution_count": 113,
   "metadata": {},
   "outputs": [
    {
     "name": "stderr",
     "output_type": "stream",
     "text": [
      "/tmp/ipykernel_321736/759330053.py:1: SettingWithCopyWarning: \n",
      "A value is trying to be set on a copy of a slice from a DataFrame\n",
      "\n",
      "See the caveats in the documentation: https://pandas.pydata.org/pandas-docs/stable/user_guide/indexing.html#returning-a-view-versus-a-copy\n",
      "  y_test.replace({\"CL0\": \"C0\",\n"
     ]
    }
   ],
   "source": [
    "y_test.replace({\"CL0\": \"C0\",\n",
    "                \"CL1\": \"C0\",\n",
    "                \"CL2\": \"C0\",\n",
    "                \"CL3\": \"C1\",\n",
    "                \"CL4\": \"C1\",\n",
    "                \"CL5\": \"C2\",\n",
    "                \"CL6\": \"C2\"},\n",
    "                inplace=True)"
   ]
  }
 ],
 "metadata": {
  "kernelspec": {
   "display_name": "Python 3.10.6 ('573')",
   "language": "python",
   "name": "python3"
  },
  "language_info": {
   "codemirror_mode": {
    "name": "ipython",
    "version": 3
   },
   "file_extension": ".py",
   "mimetype": "text/x-python",
   "name": "python",
   "nbconvert_exporter": "python",
   "pygments_lexer": "ipython3",
   "version": "3.10.6"
  },
  "orig_nbformat": 4,
  "vscode": {
   "interpreter": {
    "hash": "e11d0c4061f56f3cefa52bddf5813e6300aa93e5d5bc99c07fb2c654e74c78a8"
   }
  }
 },
 "nbformat": 4,
 "nbformat_minor": 2
}
